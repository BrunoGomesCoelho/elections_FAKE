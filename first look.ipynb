{
 "cells": [
  {
   "cell_type": "code",
   "execution_count": 1,
   "metadata": {},
   "outputs": [],
   "source": [
    "import pandas as pd\n",
    "import pathlib"
   ]
  },
  {
   "cell_type": "code",
   "execution_count": null,
   "metadata": {},
   "outputs": [],
   "source": []
  },
  {
   "cell_type": "code",
   "execution_count": null,
   "metadata": {},
   "outputs": [],
   "source": []
  },
  {
   "cell_type": "code",
   "execution_count": 2,
   "metadata": {},
   "outputs": [],
   "source": [
    "files = [x for x in pathlib.Path(\"zonas_eleitorais\").iterdir() if x.is_file()]"
   ]
  },
  {
   "cell_type": "code",
   "execution_count": 6,
   "metadata": {},
   "outputs": [
    {
     "data": {
      "text/plain": [
       "2648"
      ]
     },
     "execution_count": 6,
     "metadata": {},
     "output_type": "execute_result"
    }
   ],
   "source": [
    "all_data = {}\n",
    "zona_count = 0\n",
    "for state in files:\n",
    "    name = state.name.split(\".\")[0]\n",
    "    all_data[name] = pd.read_csv(state, encoding=\"latin1\", index_col=\"numero_zona\")\n",
    "    zona_count += len(all_data[name])\n",
    "    \n",
    "zona_count"
   ]
  },
  {
   "cell_type": "code",
   "execution_count": 7,
   "metadata": {},
   "outputs": [],
   "source": [
    "df = all_data[\"df\"]"
   ]
  },
  {
   "cell_type": "code",
   "execution_count": 8,
   "metadata": {},
   "outputs": [
    {
     "data": {
      "text/html": [
       "<div>\n",
       "<style scoped>\n",
       "    .dataframe tbody tr th:only-of-type {\n",
       "        vertical-align: middle;\n",
       "    }\n",
       "\n",
       "    .dataframe tbody tr th {\n",
       "        vertical-align: top;\n",
       "    }\n",
       "\n",
       "    .dataframe thead th {\n",
       "        text-align: right;\n",
       "    }\n",
       "</style>\n",
       "<table border=\"1\" class=\"dataframe\">\n",
       "  <thead>\n",
       "    <tr style=\"text-align: right;\">\n",
       "      <th></th>\n",
       "      <th>sigla_uf</th>\n",
       "      <th>endereco</th>\n",
       "      <th>cep</th>\n",
       "      <th>bairro</th>\n",
       "      <th>nome_municipio</th>\n",
       "      <th>sigla_uf.1</th>\n",
       "    </tr>\n",
       "    <tr>\n",
       "      <th>numero_zona</th>\n",
       "      <th></th>\n",
       "      <th></th>\n",
       "      <th></th>\n",
       "      <th></th>\n",
       "      <th></th>\n",
       "      <th></th>\n",
       "    </tr>\n",
       "  </thead>\n",
       "  <tbody>\n",
       "    <tr>\n",
       "      <th>1</th>\n",
       "      <td>07-0001</td>\n",
       "      <td>SCRS 512 BLOCO B LOJA 70</td>\n",
       "      <td>70361535</td>\n",
       "      <td>ASA SUL</td>\n",
       "      <td>BRASÍLIA</td>\n",
       "      <td>DF</td>\n",
       "    </tr>\n",
       "    <tr>\n",
       "      <th>2</th>\n",
       "      <td>07-0002</td>\n",
       "      <td>QUADRA 04 CONJUNTO B LOTE 06</td>\n",
       "      <td>71570202</td>\n",
       "      <td>PARANOÁ</td>\n",
       "      <td>BRASÍLIA</td>\n",
       "      <td>DF</td>\n",
       "    </tr>\n",
       "    <tr>\n",
       "      <th>3</th>\n",
       "      <td>07-0003</td>\n",
       "      <td>SETOR QNJ AE 16 TAGUATINGA-DF</td>\n",
       "      <td>72140616</td>\n",
       "      <td>TAGUATINGA NORTE</td>\n",
       "      <td>BRASÍLIA</td>\n",
       "      <td>DF</td>\n",
       "    </tr>\n",
       "    <tr>\n",
       "      <th>4</th>\n",
       "      <td>07-0004</td>\n",
       "      <td>CL 207, LOTES A3 E A4 - SANTA MARIA</td>\n",
       "      <td>72507220</td>\n",
       "      <td>SANTA MARIA</td>\n",
       "      <td>BRASÍLIA</td>\n",
       "      <td>DF</td>\n",
       "    </tr>\n",
       "    <tr>\n",
       "      <th>5</th>\n",
       "      <td>07-0005</td>\n",
       "      <td>QUADRA 07 AREA RESERVADA 01</td>\n",
       "      <td>73035070</td>\n",
       "      <td>SOBRADINHO</td>\n",
       "      <td>BRASÍLIA</td>\n",
       "      <td>DF</td>\n",
       "    </tr>\n",
       "  </tbody>\n",
       "</table>\n",
       "</div>"
      ],
      "text/plain": [
       "            sigla_uf                             endereco       cep  \\\n",
       "numero_zona                                                           \n",
       "1            07-0001             SCRS 512 BLOCO B LOJA 70  70361535   \n",
       "2            07-0002         QUADRA 04 CONJUNTO B LOTE 06  71570202   \n",
       "3            07-0003        SETOR QNJ AE 16 TAGUATINGA-DF  72140616   \n",
       "4            07-0004  CL 207, LOTES A3 E A4 - SANTA MARIA  72507220   \n",
       "5            07-0005          QUADRA 07 AREA RESERVADA 01  73035070   \n",
       "\n",
       "                       bairro nome_municipio sigla_uf.1  \n",
       "numero_zona                                              \n",
       "1                     ASA SUL       BRASÍLIA         DF  \n",
       "2                     PARANOÁ       BRASÍLIA         DF  \n",
       "3            TAGUATINGA NORTE       BRASÍLIA         DF  \n",
       "4                 SANTA MARIA       BRASÍLIA         DF  \n",
       "5                  SOBRADINHO       BRASÍLIA         DF  "
      ]
     },
     "execution_count": 8,
     "metadata": {},
     "output_type": "execute_result"
    }
   ],
   "source": [
    "df.head()"
   ]
  },
  {
   "cell_type": "code",
   "execution_count": 14,
   "metadata": {},
   "outputs": [
    {
     "data": {
      "text/plain": [
       "sigla_uf                           07-0001\n",
       "endereco          SCRS 512 BLOCO B LOJA 70\n",
       "cep                               70361535\n",
       "bairro                             ASA SUL\n",
       "nome_municipio                    BRASÍLIA\n",
       "sigla_uf.1                              DF\n",
       "Name: 1, dtype: object"
      ]
     },
     "execution_count": 14,
     "metadata": {},
     "output_type": "execute_result"
    }
   ],
   "source": [
    "row = df.iloc[0]\n",
    "row"
   ]
  },
  {
   "cell_type": "code",
   "execution_count": 16,
   "metadata": {},
   "outputs": [
    {
     "data": {
      "text/plain": [
       "'SCRS 512 BLOCO B LOJA 70, ASA SUL, BRASÍLIA, DF'"
      ]
     },
     "execution_count": 16,
     "metadata": {},
     "output_type": "execute_result"
    }
   ],
   "source": [
    "f\"{row['endereco']}, {row['bairro']}, {row['nome_municipio']}, {row['sigla_uf.1']}\""
   ]
  }
 ],
 "metadata": {
  "kernelspec": {
   "display_name": "Python 3",
   "language": "python",
   "name": "python3"
  },
  "language_info": {
   "codemirror_mode": {
    "name": "ipython",
    "version": 3
   },
   "file_extension": ".py",
   "mimetype": "text/x-python",
   "name": "python",
   "nbconvert_exporter": "python",
   "pygments_lexer": "ipython3",
   "version": "3.6.5rc1"
  }
 },
 "nbformat": 4,
 "nbformat_minor": 2
}
