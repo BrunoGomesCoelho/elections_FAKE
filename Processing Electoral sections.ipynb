{
 "cells": [
  {
   "cell_type": "code",
   "execution_count": 117,
   "metadata": {},
   "outputs": [],
   "source": [
    "import pandas as pd\n",
    "import pathlib\n",
    "import math\n",
    "from collections import defaultdict\n",
    "\n",
    "ALL_ZONES = \"zonas_lat_long.csv\"\n",
    "ALL_VOTES = \"resultado_presidente.csv\"\n",
    "\n",
    "zones = pd.read_csv(ALL_ZONES, encoding=\"latin1\") #, index_col=\"numero_zona\")\n",
    "votes = pd.read_csv(ALL_VOTES, encoding=\"latin1\", delimiter=\";\", \\\n",
    "                    usecols=[\"NR_TURNO\", \"SG_UF\", \"NR_ZONA\", \"NR_SECAO\", \\\n",
    "                            \"NM_VOTAVEL\", \"QT_VOTOS\"])\n",
    "\n",
    "# Ignore international votes\n",
    "votes = votes[votes[\"SG_UF\"] != \"ZZ\"]"
   ]
  },
  {
   "cell_type": "code",
   "execution_count": 118,
   "metadata": {
    "scrolled": true
   },
   "outputs": [
    {
     "data": {
      "text/html": [
       "<div>\n",
       "<style scoped>\n",
       "    .dataframe tbody tr th:only-of-type {\n",
       "        vertical-align: middle;\n",
       "    }\n",
       "\n",
       "    .dataframe tbody tr th {\n",
       "        vertical-align: top;\n",
       "    }\n",
       "\n",
       "    .dataframe thead th {\n",
       "        text-align: right;\n",
       "    }\n",
       "</style>\n",
       "<table border=\"1\" class=\"dataframe\">\n",
       "  <thead>\n",
       "    <tr style=\"text-align: right;\">\n",
       "      <th></th>\n",
       "      <th>numero_zona</th>\n",
       "      <th>sigla_uf.1</th>\n",
       "      <th>lat_0</th>\n",
       "      <th>lng_0</th>\n",
       "    </tr>\n",
       "  </thead>\n",
       "  <tbody>\n",
       "    <tr>\n",
       "      <th>0</th>\n",
       "      <td>60</td>\n",
       "      <td>MT</td>\n",
       "      <td>-13.662917</td>\n",
       "      <td>-57.888985</td>\n",
       "    </tr>\n",
       "    <tr>\n",
       "      <th>1</th>\n",
       "      <td>36</td>\n",
       "      <td>MT</td>\n",
       "      <td>-12.290314</td>\n",
       "      <td>-55.295626</td>\n",
       "    </tr>\n",
       "    <tr>\n",
       "      <th>2</th>\n",
       "      <td>20</td>\n",
       "      <td>MT</td>\n",
       "      <td>-15.647176</td>\n",
       "      <td>-56.130580</td>\n",
       "    </tr>\n",
       "    <tr>\n",
       "      <th>3</th>\n",
       "      <td>49</td>\n",
       "      <td>MT</td>\n",
       "      <td>-15.647176</td>\n",
       "      <td>-56.130580</td>\n",
       "    </tr>\n",
       "    <tr>\n",
       "      <th>4</th>\n",
       "      <td>26</td>\n",
       "      <td>MT</td>\n",
       "      <td>-14.667030</td>\n",
       "      <td>-52.352839</td>\n",
       "    </tr>\n",
       "  </tbody>\n",
       "</table>\n",
       "</div>"
      ],
      "text/plain": [
       "   numero_zona sigla_uf.1      lat_0      lng_0\n",
       "0           60         MT -13.662917 -57.888985\n",
       "1           36         MT -12.290314 -55.295626\n",
       "2           20         MT -15.647176 -56.130580\n",
       "3           49         MT -15.647176 -56.130580\n",
       "4           26         MT -14.667030 -52.352839"
      ]
     },
     "execution_count": 118,
     "metadata": {},
     "output_type": "execute_result"
    }
   ],
   "source": [
    "zones.head()"
   ]
  },
  {
   "cell_type": "code",
   "execution_count": 124,
   "metadata": {},
   "outputs": [],
   "source": [
    "def save_merged_results(votes, zones, numero_turno=\"both\", drop_na=True):\n",
    "    if numero_turno != \"both\":\n",
    "        votes = votes[votes[\"NR_TURNO\"] == numero_turno]\n",
    "    merged_data = votes.merge(zones, left_on=[\"SG_UF\", \"NR_ZONA\"], \\\n",
    "                              right_on=[\"sigla_uf.1\", \"numero_zona\"], how=\"right\")\n",
    "    idxs = merged_data[\"lat_0\"].isna()\n",
    "    if sum(idxs):\n",
    "        print(f\"There were {sum(idxs)} (={sum(idxs)/len(merged_data):.2f}%) \"\\\n",
    "            \"rows with invalid state initials/zone\")\n",
    "        if drop_na:\n",
    "            merged_data = merged_data[~idxs]\n",
    "    \n",
    "    return merged_data"
   ]
  },
  {
   "cell_type": "code",
   "execution_count": 127,
   "metadata": {},
   "outputs": [
    {
     "name": "stdout",
     "output_type": "stream",
     "text": [
      "There were 1298 (=0.00%) rows with invalid state initials/zone\n"
     ]
    }
   ],
   "source": [
    "df = save_merged_results(votes, zones, numero_turno=1)\n",
    "df.to_csv(\"Voting_lat_long.csv\")"
   ]
  },
  {
   "cell_type": "code",
   "execution_count": null,
   "metadata": {},
   "outputs": [],
   "source": []
  }
 ],
 "metadata": {
  "kernelspec": {
   "display_name": "Python 3",
   "language": "python",
   "name": "python3"
  },
  "language_info": {
   "codemirror_mode": {
    "name": "ipython",
    "version": 3
   },
   "file_extension": ".py",
   "mimetype": "text/x-python",
   "name": "python",
   "nbconvert_exporter": "python",
   "pygments_lexer": "ipython3",
   "version": "3.6.5rc1"
  }
 },
 "nbformat": 4,
 "nbformat_minor": 2
}
