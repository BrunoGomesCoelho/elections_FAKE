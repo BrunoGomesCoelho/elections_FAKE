{
 "cells": [
  {
   "cell_type": "code",
   "execution_count": 30,
   "metadata": {},
   "outputs": [],
   "source": [
    "import pandas as pd\n",
    "import pathlib\n",
    "import math\n",
    "from collections import defaultdict\n",
    "\n",
    "ALL_ZONES = \"zonas_lat_long.csv\"\n",
    "ALL_VOTES = \"resultado_presidente.csv\"\n",
    "\n",
    "zones = pd.read_csv(ALL_ZONES, encoding=\"latin1\", index_col=\"numero_zona\")\n",
    "votes = pd.read_csv(ALL_VOTES, encoding=\"latin1\", delimiter=\";\", \\\n",
    "                    usecols=[\"NR_TURNO\", \"SG_UF\", \"NR_ZONA\", \"NR_SECAO\", \\\n",
    "                            \"NM_VOTAVEL\", \"QT_VOTOS\"])\n",
    "\n",
    "# Ignore international votes\n",
    "votes = votes[votes[\"SG_UF\"] != \"ZZ\"]"
   ]
  },
  {
   "cell_type": "code",
   "execution_count": 70,
   "metadata": {},
   "outputs": [],
   "source": [
    "def save_merged_results(votes, zones, numero_turno=\"both\"):\n",
    "    if numero_turno != \"both\":\n",
    "        votes = votes[votes[\"NR_TURNO\"] == numero_turno]\n",
    "    merged_data = votes.merge(zones, left_on=[\"SG_UF\", \"NR_ZONA\"], \\\n",
    "                              right_on=[\"sigla_uf.1\", \"numero_zona\"])\n",
    "    idxs = merged_data[\"lat_0\"].isna()\n",
    "    if sum(idxs):\n",
    "        print(f\"There were {sum(idxs)} (={sum(idxs)/len(merged_data):.2f}%) \"\\\n",
    "            \"rows with invalid state initials/zone\")\n",
    "    \n",
    "    return merged_data"
   ]
  },
  {
   "cell_type": "code",
   "execution_count": 71,
   "metadata": {},
   "outputs": [
    {
     "name": "stdout",
     "output_type": "stream",
     "text": [
      "There were 9949 (=0.01%) rows with invalid state initials/zone\n"
     ]
    }
   ],
   "source": [
    "df = save_merged_results(votes, zones, numero_turno=1)"
   ]
  },
  {
   "cell_type": "code",
   "execution_count": 51,
   "metadata": {},
   "outputs": [
    {
     "data": {
      "text/plain": [
       "0.013082750467804652"
      ]
     },
     "execution_count": 51,
     "metadata": {},
     "output_type": "execute_result"
    }
   ],
   "source": []
  }
 ],
 "metadata": {
  "kernelspec": {
   "display_name": "Python 3",
   "language": "python",
   "name": "python3"
  },
  "language_info": {
   "codemirror_mode": {
    "name": "ipython",
    "version": 3
   },
   "file_extension": ".py",
   "mimetype": "text/x-python",
   "name": "python",
   "nbconvert_exporter": "python",
   "pygments_lexer": "ipython3",
   "version": "3.6.5rc1"
  }
 },
 "nbformat": 4,
 "nbformat_minor": 2
}
